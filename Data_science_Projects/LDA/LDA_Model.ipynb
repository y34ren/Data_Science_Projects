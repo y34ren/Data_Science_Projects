{
  "nbformat": 4,
  "nbformat_minor": 0,
  "metadata": {
    "colab": {
      "name": "LDA_Model.ipynb",
      "provenance": []
    },
    "kernelspec": {
      "name": "python3",
      "display_name": "Python 3"
    }
  },
  "cells": [
    {
      "cell_type": "code",
      "metadata": {
        "id": "LzQ2jQgxbg48",
        "colab_type": "code",
        "colab": {}
      },
      "source": [
        "! pip install pyLDAvis"
      ],
      "execution_count": 0,
      "outputs": []
    },
    {
      "cell_type": "code",
      "metadata": {
        "id": "w-fhFajhWVop",
        "colab_type": "code",
        "colab": {}
      },
      "source": [
        "import numpy as np\n",
        "import pandas as pd"
      ],
      "execution_count": 0,
      "outputs": []
    },
    {
      "cell_type": "code",
      "metadata": {
        "id": "YyMdAZ_VW1n6",
        "colab_type": "code",
        "colab": {}
      },
      "source": [
        "from gensim.test.utils import common_texts\n",
        "from gensim.corpora.dictionary import Dictionary\n",
        "\n",
        "import re\n",
        "import numpy as np\n",
        "import pandas as pd\n",
        "from pprint import pprint\n",
        "\n",
        "# Gensim\n",
        "import gensim\n",
        "import gensim.corpora as corpora\n",
        "from gensim.utils import simple_preprocess\n",
        "from gensim.models import CoherenceModel\n",
        "\n",
        "# spacy for lemmatization\n",
        "import spacy\n",
        "\n",
        "# Plotting tools\n",
        "import pyLDAvis\n",
        "import pyLDAvis.gensim  # don't skip this\n",
        "import matplotlib.pyplot as plt\n",
        "%matplotlib inline\n",
        "\n",
        "# Enable logging for gensim - optional\n",
        "import logging\n",
        "logging.basicConfig(format='%(asctime)s : %(levelname)s : %(message)s', level=logging.ERROR)\n",
        "\n",
        "import warnings\n",
        "warnings.filterwarnings(\"ignore\",category=DeprecationWarning)"
      ],
      "execution_count": 0,
      "outputs": []
    },
    {
      "cell_type": "markdown",
      "metadata": {
        "id": "JrFvHKVvWYir",
        "colab_type": "text"
      },
      "source": [
        "Latentt Dirilecht Allocation Model (LDA)"
      ]
    },
    {
      "cell_type": "code",
      "metadata": {
        "id": "EQYpspDDWewJ",
        "colab_type": "code",
        "colab": {}
      },
      "source": [
        "data = pd.read_csv(\"./review_labeled.csv\")"
      ],
      "execution_count": 0,
      "outputs": []
    },
    {
      "cell_type": "code",
      "metadata": {
        "id": "_M6waQPJW0Z4",
        "colab_type": "code",
        "colab": {}
      },
      "source": [
        "data_reviews_0 = data['reviews.text']\n",
        "data_reviews = data_reviews_0.values.tolist()"
      ],
      "execution_count": 0,
      "outputs": []
    },
    {
      "cell_type": "code",
      "metadata": {
        "id": "SSMzP43pYY9V",
        "colab_type": "code",
        "colab": {}
      },
      "source": [
        "common_dictionary = Dictionary(common_texts)\n",
        "common_corpus = [common_dictionary.doc2bow(text) for text in common_texts]"
      ],
      "execution_count": 0,
      "outputs": []
    },
    {
      "cell_type": "code",
      "metadata": {
        "id": "8eLp-RAfdfym",
        "colab_type": "code",
        "outputId": "3a826fa9-4767-4d31-a91b-460497c665c1",
        "colab": {
          "base_uri": "https://localhost:8080/",
          "height": 51
        }
      },
      "source": [
        "import nltk\n",
        "nltk.download('stopwords')\n",
        "\n",
        "# NLTK Stop words\n",
        "from nltk.corpus import stopwords\n",
        "stop_words = stopwords.words('english')\n",
        "stop_words.extend(['from', 'subject', 're', 'edu', 'use'])"
      ],
      "execution_count": 0,
      "outputs": [
        {
          "output_type": "stream",
          "text": [
            "[nltk_data] Downloading package stopwords to /root/nltk_data...\n",
            "[nltk_data]   Package stopwords is already up-to-date!\n"
          ],
          "name": "stdout"
        }
      ]
    },
    {
      "cell_type": "code",
      "metadata": {
        "id": "qorfIwxmeASe",
        "colab_type": "code",
        "colab": {}
      },
      "source": [
        "# Remove new line characters\n",
        "data_reviews = [re.sub('\\s+', ' ', sent) for sent in data_reviews]\n",
        "\n",
        "# Remove distracting single quotes\n",
        "data_reviews = [re.sub(\"\\'\", \"\", sent) for sent in data_reviews]"
      ],
      "execution_count": 0,
      "outputs": []
    },
    {
      "cell_type": "code",
      "metadata": {
        "id": "-vSmFjkqeOUc",
        "colab_type": "code",
        "outputId": "ac82afb6-d4c7-40c6-ea41-210234bdbbc0",
        "colab": {
          "base_uri": "https://localhost:8080/",
          "height": 54
        }
      },
      "source": [
        "print(data_reviews[:1])"
      ],
      "execution_count": 0,
      "outputs": [
        {
          "output_type": "stream",
          "text": [
            "['Our experience at Rancho Valencia was absolutely perfect from beginning to end!!!! We felt special and very happy during our stayed. I would come back in a heart beat!!!']\n"
          ],
          "name": "stdout"
        }
      ]
    },
    {
      "cell_type": "code",
      "metadata": {
        "id": "frm2gjoSec3j",
        "colab_type": "code",
        "colab": {}
      },
      "source": [
        "def sent_to_words(sentences):\n",
        "    for sentence in sentences:\n",
        "        yield(gensim.utils.simple_preprocess(str(sentence), deacc=True))  # deacc=True removes punctuations\n",
        "\n",
        "data_words = list(sent_to_words(data_reviews))"
      ],
      "execution_count": 0,
      "outputs": []
    },
    {
      "cell_type": "code",
      "metadata": {
        "id": "o8gK0Nqvecw6",
        "colab_type": "code",
        "outputId": "6893669d-695e-48c8-b544-1bba2da1f59a",
        "colab": {
          "base_uri": "https://localhost:8080/",
          "height": 54
        }
      },
      "source": [
        "print(data_words[:1])\n"
      ],
      "execution_count": 0,
      "outputs": [
        {
          "output_type": "stream",
          "text": [
            "[['our', 'experience', 'at', 'rancho', 'valencia', 'was', 'absolutely', 'perfect', 'from', 'beginning', 'to', 'end', 'we', 'felt', 'special', 'and', 'very', 'happy', 'during', 'our', 'stayed', 'would', 'come', 'back', 'in', 'heart', 'beat']]\n"
          ],
          "name": "stdout"
        }
      ]
    },
    {
      "cell_type": "code",
      "metadata": {
        "id": "iCIgNgh0ecnr",
        "colab_type": "code",
        "outputId": "899a99f0-717e-4e00-9e17-17491fc054e3",
        "colab": {
          "base_uri": "https://localhost:8080/",
          "height": 88
        }
      },
      "source": [
        "# Build the bigram and trigram models\n",
        "bigram = gensim.models.Phrases(data_words, min_count=5, threshold=100) # higher threshold fewer phrases.\n",
        "trigram = gensim.models.Phrases(bigram[data_words], threshold=100)  \n",
        "\n",
        "# Faster way to get a sentence clubbed as a trigram/bigram\n",
        "bigram_mod = gensim.models.phrases.Phraser(bigram)\n",
        "trigram_mod = gensim.models.phrases.Phraser(trigram)\n",
        "\n",
        "# See trigram example\n",
        "print(trigram_mod[bigram_mod[data_words[0]]])\n"
      ],
      "execution_count": 0,
      "outputs": [
        {
          "output_type": "stream",
          "text": [
            "/usr/local/lib/python3.6/dist-packages/gensim/models/phrases.py:598: UserWarning: For a faster implementation, use the gensim.models.phrases.Phraser class\n",
            "  warnings.warn(\"For a faster implementation, use the gensim.models.phrases.Phraser class\")\n"
          ],
          "name": "stderr"
        },
        {
          "output_type": "stream",
          "text": [
            "['our', 'experience', 'at', 'rancho', 'valencia', 'was', 'absolutely', 'perfect', 'from', 'beginning', 'to', 'end', 'we', 'felt', 'special', 'and', 'very', 'happy', 'during', 'our', 'stayed', 'would', 'come', 'back', 'in', 'heart', 'beat']\n"
          ],
          "name": "stdout"
        }
      ]
    },
    {
      "cell_type": "code",
      "metadata": {
        "id": "29mFKIoRfMrl",
        "colab_type": "code",
        "colab": {}
      },
      "source": [
        "# Define functions for stopwords, bigrams, trigrams and lemmatization\n",
        "def remove_stopwords(texts):\n",
        "    return [[word for word in simple_preprocess(str(doc)) if word not in stop_words] for doc in texts]\n",
        "\n",
        "def make_bigrams(texts):\n",
        "    return [bigram_mod[doc] for doc in texts]\n",
        "\n",
        "def make_trigrams(texts):\n",
        "    return [trigram_mod[bigram_mod[doc]] for doc in texts]\n",
        "\n",
        "def lemmatization(texts, allowed_postags=['NOUN', 'ADJ', 'VERB', 'ADV']):\n",
        "    \"\"\"https://spacy.io/api/annotation\"\"\"\n",
        "    texts_out = []\n",
        "    for sent in texts:\n",
        "        doc = nlp(\" \".join(sent)) \n",
        "        texts_out.append([token.lemma_ for token in doc if token.pos_ in allowed_postags])\n",
        "    return texts_out"
      ],
      "execution_count": 0,
      "outputs": []
    },
    {
      "cell_type": "code",
      "metadata": {
        "id": "AQ7Ki2hcfMoM",
        "colab_type": "code",
        "outputId": "bdb6c8fa-926c-4552-9dc8-bbe8e3783aba",
        "colab": {
          "base_uri": "https://localhost:8080/",
          "height": 54
        }
      },
      "source": [
        "# Remove Stop Words\n",
        "data_words_nostops = remove_stopwords(data_words)\n",
        "\n",
        "# Form Bigrams\n",
        "data_words_bigrams = make_bigrams(data_words_nostops)\n",
        "\n",
        "# Initialize spacy 'en' model, keeping only tagger component (for efficiency)\n",
        "# python3 -m spacy download en\n",
        "nlp = spacy.load('en', disable=['parser', 'ner'])\n",
        "\n",
        "# Do lemmatization keeping only noun, adj, vb, adv\n",
        "data_lemmatized = lemmatization(data_words_bigrams, allowed_postags=['NOUN', 'ADJ', 'VERB', 'ADV'])\n",
        "\n",
        "print(data_lemmatized[:1])"
      ],
      "execution_count": 0,
      "outputs": [
        {
          "output_type": "stream",
          "text": [
            "[['experience', 'rancho', 'valencia', 'absolutely', 'perfect', 'beginning', 'end', 'feel', 'special', 'happy', 'stay', 'would', 'come', 'back', 'heart', 'beat']]\n"
          ],
          "name": "stdout"
        }
      ]
    },
    {
      "cell_type": "code",
      "metadata": {
        "id": "r-jr3yQUfyFW",
        "colab_type": "code",
        "outputId": "4ad7450f-f8ba-4c4a-caf6-c8484bb9519e",
        "colab": {
          "base_uri": "https://localhost:8080/",
          "height": 34
        }
      },
      "source": [
        "# Create Dictionary\n",
        "id2word = corpora.Dictionary(data_lemmatized)\n",
        "\n",
        "# Create Corpus\n",
        "texts = data_lemmatized\n",
        "\n",
        "# Term Document Frequency\n",
        "corpus = [id2word.doc2bow(text) for text in texts]\n",
        "\n",
        "# View\n",
        "print(corpus[:1])"
      ],
      "execution_count": 0,
      "outputs": [
        {
          "output_type": "stream",
          "text": [
            "[[(0, 1), (1, 1), (2, 1), (3, 1), (4, 1), (5, 1), (6, 1), (7, 1), (8, 1), (9, 1), (10, 1), (11, 1), (12, 1), (13, 1), (14, 1), (15, 1)]]\n"
          ],
          "name": "stdout"
        }
      ]
    },
    {
      "cell_type": "code",
      "metadata": {
        "id": "kFik-0Crf4vy",
        "colab_type": "code",
        "outputId": "a579ae1d-c249-4751-8cbe-ea61fa88c6a3",
        "colab": {
          "base_uri": "https://localhost:8080/",
          "height": 34
        }
      },
      "source": [
        "id2word[4]"
      ],
      "execution_count": 0,
      "outputs": [
        {
          "output_type": "execute_result",
          "data": {
            "text/plain": [
              "'come'"
            ]
          },
          "metadata": {
            "tags": []
          },
          "execution_count": 45
        }
      ]
    },
    {
      "cell_type": "code",
      "metadata": {
        "id": "ts381nwQgCBX",
        "colab_type": "code",
        "outputId": "dd15a84e-91ff-45f2-811c-2b86a0de4114",
        "colab": {
          "base_uri": "https://localhost:8080/",
          "height": 289
        }
      },
      "source": [
        "# Human readable format of corpus (term-frequency)\n",
        "[[(id2word[id], freq) for id, freq in cp] for cp in corpus[:1]]"
      ],
      "execution_count": 0,
      "outputs": [
        {
          "output_type": "execute_result",
          "data": {
            "text/plain": [
              "[[('absolutely', 1),\n",
              "  ('back', 1),\n",
              "  ('beat', 1),\n",
              "  ('beginning', 1),\n",
              "  ('come', 1),\n",
              "  ('end', 1),\n",
              "  ('experience', 1),\n",
              "  ('feel', 1),\n",
              "  ('happy', 1),\n",
              "  ('heart', 1),\n",
              "  ('perfect', 1),\n",
              "  ('rancho', 1),\n",
              "  ('special', 1),\n",
              "  ('stay', 1),\n",
              "  ('valencia', 1),\n",
              "  ('would', 1)]]"
            ]
          },
          "metadata": {
            "tags": []
          },
          "execution_count": 46
        }
      ]
    },
    {
      "cell_type": "code",
      "metadata": {
        "id": "q3duTjjGYqRt",
        "colab_type": "code",
        "colab": {}
      },
      "source": [
        "lda = gensim.models.ldamodel.LdaModel(corpus=corpus,\n",
        "                                           id2word=id2word,\n",
        "                                           num_topics=9, \n",
        "                                           random_state=100,\n",
        "                                           update_every=1,\n",
        "                                           chunksize=100,\n",
        "                                           passes=10,\n",
        "                                           alpha='auto',\n",
        "                                           per_word_topics=True)"
      ],
      "execution_count": 0,
      "outputs": []
    },
    {
      "cell_type": "code",
      "metadata": {
        "id": "-BmaddUUYqxC",
        "colab_type": "code",
        "outputId": "58d3af7d-ae00-4e6b-c381-dd57890884a6",
        "colab": {
          "base_uri": "https://localhost:8080/",
          "height": 54
        }
      },
      "source": [
        "# Print the Keyword in the 9 topics\n",
        "print(lda.print_topics())\n",
        "doc_lda = lda[corpus]"
      ],
      "execution_count": 0,
      "outputs": [
        {
          "output_type": "stream",
          "text": [
            "[(0, '0.054*\"check\" + 0.038*\"front_desk\" + 0.029*\"experience\" + 0.019*\"tell\" + 0.018*\"people\" + 0.017*\"ask\" + 0.016*\"arrive\" + 0.016*\"hour\" + 0.014*\"drive\" + 0.013*\"wait\"'), (1, '0.074*\"room\" + 0.058*\"hotel\" + 0.038*\"staff\" + 0.033*\"good\" + 0.032*\"clean\" + 0.031*\"breakfast\" + 0.031*\"great\" + 0.025*\"nice\" + 0.019*\"would\" + 0.018*\"get\"'), (2, '0.052*\"restaurant\" + 0.052*\"close\" + 0.040*\"also\" + 0.026*\"view\" + 0.025*\"suite\" + 0.022*\"offer\" + 0.020*\"quiet\" + 0.018*\"pleasant\" + 0.016*\"morning\" + 0.015*\"buffet\"'), (3, '0.044*\"call\" + 0.036*\"hot\" + 0.028*\"run\" + 0.022*\"cold\" + 0.020*\"available\" + 0.019*\"s\" + 0.017*\"continental\" + 0.017*\"manager\" + 0.011*\"move\" + 0.011*\"item\"'), (4, '0.054*\"family\" + 0.047*\"food\" + 0.033*\"always\" + 0.021*\"travel\" + 0.018*\"never\" + 0.018*\"business\" + 0.016*\"use\" + 0.016*\"spend\" + 0.015*\"value\" + 0.015*\"meet\"'), (5, '0.052*\"convenient\" + 0.021*\"full\" + 0.021*\"wifi\" + 0.018*\"unit\" + 0.018*\"microwave\" + 0.017*\"receive\" + 0.016*\"space\" + 0.013*\"indoor_pool\" + 0.013*\"build\" + 0.012*\"condition\"'), (6, '0.080*\"stay\" + 0.033*\"go\" + 0.030*\"time\" + 0.020*\"make\" + 0.017*\"take\" + 0.016*\"shuttle\" + 0.016*\"back\" + 0.015*\"come\" + 0.015*\"enjoy\" + 0.014*\"hotel\"'), (7, '0.062*\"not\" + 0.048*\"do\" + 0.024*\"floor\" + 0.019*\"water\" + 0.017*\"desk\" + 0.016*\"towel\" + 0.014*\"dirty\" + 0.014*\"charge\" + 0.012*\"carpet\" + 0.011*\"say\"'), (8, '0.066*\"pool\" + 0.036*\"everything\" + 0.033*\"door\" + 0.030*\"thing\" + 0.026*\"smell\" + 0.021*\"think\" + 0.018*\"pretty\" + 0.016*\"shower\" + 0.016*\"min\" + 0.015*\"loud\"')]\n"
          ],
          "name": "stdout"
        }
      ]
    },
    {
      "cell_type": "code",
      "metadata": {
        "id": "wlbpLLTKg3GK",
        "colab_type": "code",
        "outputId": "24811fec-8281-4bc0-dd08-cea9dbe82b5f",
        "colab": {
          "base_uri": "https://localhost:8080/",
          "height": 54
        }
      },
      "source": [
        "data['reviews.text'][3]"
      ],
      "execution_count": 0,
      "outputs": [
        {
          "output_type": "execute_result",
          "data": {
            "text/plain": [
              "\"Currently in bed writing this for the past hr 1/2 there have been dogs barking and squealing call the front desk to advise basically to be told there's nothing they can do. 315.00 and I can't sleep.\""
            ]
          },
          "metadata": {
            "tags": []
          },
          "execution_count": 81
        }
      ]
    },
    {
      "cell_type": "code",
      "metadata": {
        "id": "uToMS7IwhGSr",
        "colab_type": "code",
        "outputId": "17bfc940-a2e4-4ab5-e2ee-199db390cef0",
        "colab": {
          "base_uri": "https://localhost:8080/",
          "height": 997
        }
      },
      "source": [
        "pyLDAvis.enable_notebook()\n",
        "vis = pyLDAvis.gensim.prepare(lda, corpus, id2word)\n",
        "vis"
      ],
      "execution_count": 0,
      "outputs": [
        {
          "output_type": "stream",
          "text": [
            "/usr/local/lib/python3.6/dist-packages/pyLDAvis/_prepare.py:257: FutureWarning: Sorting because non-concatenation axis is not aligned. A future version\n",
            "of pandas will change to not sort by default.\n",
            "\n",
            "To accept the future behavior, pass 'sort=False'.\n",
            "\n",
            "To retain the current behavior and silence the warning, pass 'sort=True'.\n",
            "\n",
            "  return pd.concat([default_term_info] + list(topic_dfs))\n"
          ],
          "name": "stderr"
        },
        {
          "output_type": "execute_result",
          "data": {
            "text/html": [
              "\n",
              "<link rel=\"stylesheet\" type=\"text/css\" href=\"https://cdn.rawgit.com/bmabey/pyLDAvis/files/ldavis.v1.0.0.css\">\n",
              "\n",
              "\n",
              "<div id=\"ldavis_el5821398347261399689651337523\"></div>\n",
              "<script type=\"text/javascript\">\n",
              "\n",
              "var ldavis_el5821398347261399689651337523_data = {\"mdsDat\": {\"x\": [0.3692661431733197, 0.24181046530464778, -0.010511305842935663, -0.08739056120616752, -0.05486637330746387, -0.10259842341170064, -0.10046698613976153, -0.1261226702597746, -0.1291202883101631], \"y\": [-0.17081405973856717, 0.22611471547452175, 0.13011914228453497, 0.09675078841323435, -0.2516202295608698, 0.041838795202073904, -0.017566816574629537, -0.044930216876295066, -0.009892118624003382], \"topics\": [1, 2, 3, 4, 5, 6, 7, 8, 9], \"cluster\": [1, 1, 1, 1, 1, 1, 1, 1, 1], \"Freq\": [39.0888557434082, 19.4482364654541, 9.03508186340332, 7.525022983551025, 6.513519763946533, 6.179352283477783, 5.476982593536377, 3.9590086936950684, 2.7739408016204834]}, \"tinfo\": {\"Category\": [\"Default\", \"Default\", \"Default\", \"Default\", \"Default\", \"Default\", \"Default\", \"Default\", \"Default\", \"Default\", \"Default\", \"Default\", \"Default\", \"Default\", \"Default\", \"Default\", \"Default\", \"Default\", \"Default\", \"Default\", \"Default\", \"Default\", \"Default\", \"Default\", \"Default\", \"Default\", \"Default\", \"Default\", \"Default\", \"Default\", \"Topic1\", \"Topic1\", \"Topic1\", \"Topic1\", \"Topic1\", \"Topic1\", \"Topic1\", \"Topic1\", \"Topic1\", \"Topic1\", \"Topic1\", \"Topic1\", \"Topic1\", \"Topic1\", \"Topic1\", \"Topic1\", \"Topic1\", \"Topic1\", \"Topic1\", \"Topic1\", \"Topic1\", \"Topic1\", \"Topic1\", \"Topic1\", \"Topic1\", \"Topic1\", \"Topic1\", \"Topic1\", \"Topic1\", \"Topic1\", \"Topic1\", \"Topic1\", \"Topic1\", \"Topic1\", \"Topic1\", \"Topic1\", \"Topic1\", \"Topic1\", \"Topic1\", \"Topic1\", \"Topic1\", \"Topic2\", \"Topic2\", \"Topic2\", \"Topic2\", \"Topic2\", \"Topic2\", \"Topic2\", \"Topic2\", \"Topic2\", \"Topic2\", \"Topic2\", \"Topic2\", \"Topic2\", \"Topic2\", \"Topic2\", \"Topic2\", \"Topic2\", \"Topic2\", \"Topic2\", \"Topic2\", \"Topic2\", \"Topic2\", \"Topic2\", \"Topic2\", \"Topic2\", \"Topic2\", \"Topic2\", \"Topic2\", \"Topic2\", \"Topic2\", \"Topic2\", \"Topic2\", \"Topic2\", \"Topic2\", \"Topic2\", \"Topic2\", \"Topic2\", \"Topic2\", \"Topic2\", \"Topic2\", \"Topic2\", \"Topic2\", \"Topic2\", \"Topic2\", \"Topic3\", \"Topic3\", \"Topic3\", \"Topic3\", \"Topic3\", \"Topic3\", \"Topic3\", \"Topic3\", \"Topic3\", \"Topic3\", \"Topic3\", \"Topic3\", \"Topic3\", \"Topic3\", \"Topic3\", \"Topic3\", \"Topic3\", \"Topic3\", \"Topic3\", \"Topic3\", \"Topic3\", \"Topic3\", \"Topic3\", \"Topic3\", \"Topic3\", \"Topic3\", \"Topic3\", \"Topic3\", \"Topic3\", \"Topic3\", \"Topic3\", \"Topic3\", \"Topic3\", \"Topic3\", \"Topic3\", \"Topic3\", \"Topic3\", \"Topic4\", \"Topic4\", \"Topic4\", \"Topic4\", \"Topic4\", \"Topic4\", \"Topic4\", \"Topic4\", \"Topic4\", \"Topic4\", \"Topic4\", \"Topic4\", \"Topic4\", \"Topic4\", \"Topic4\", \"Topic4\", \"Topic4\", \"Topic4\", \"Topic4\", \"Topic4\", \"Topic4\", \"Topic4\", \"Topic4\", \"Topic4\", \"Topic4\", \"Topic4\", \"Topic4\", \"Topic4\", \"Topic4\", \"Topic4\", \"Topic4\", \"Topic4\", \"Topic4\", \"Topic5\", \"Topic5\", \"Topic5\", \"Topic5\", \"Topic5\", \"Topic5\", \"Topic5\", \"Topic5\", \"Topic5\", \"Topic5\", \"Topic5\", \"Topic5\", \"Topic5\", \"Topic5\", \"Topic5\", \"Topic5\", \"Topic5\", \"Topic5\", \"Topic5\", \"Topic5\", \"Topic5\", \"Topic5\", \"Topic5\", \"Topic5\", \"Topic5\", \"Topic5\", \"Topic5\", \"Topic5\", \"Topic5\", \"Topic5\", \"Topic5\", \"Topic5\", \"Topic5\", \"Topic5\", \"Topic5\", \"Topic5\", \"Topic5\", \"Topic6\", \"Topic6\", \"Topic6\", \"Topic6\", \"Topic6\", \"Topic6\", \"Topic6\", \"Topic6\", \"Topic6\", \"Topic6\", \"Topic6\", \"Topic6\", \"Topic6\", \"Topic6\", \"Topic6\", \"Topic6\", \"Topic6\", \"Topic6\", \"Topic6\", \"Topic6\", \"Topic6\", \"Topic6\", \"Topic6\", \"Topic6\", \"Topic6\", \"Topic6\", \"Topic6\", \"Topic6\", \"Topic6\", \"Topic6\", \"Topic6\", \"Topic6\", \"Topic6\", \"Topic6\", \"Topic6\", \"Topic7\", \"Topic7\", \"Topic7\", \"Topic7\", \"Topic7\", \"Topic7\", \"Topic7\", \"Topic7\", \"Topic7\", \"Topic7\", \"Topic7\", \"Topic7\", \"Topic7\", \"Topic7\", \"Topic7\", \"Topic7\", \"Topic7\", \"Topic7\", \"Topic7\", \"Topic7\", \"Topic7\", \"Topic7\", \"Topic7\", \"Topic7\", \"Topic7\", \"Topic7\", \"Topic7\", \"Topic7\", \"Topic7\", \"Topic7\", \"Topic7\", \"Topic7\", \"Topic7\", \"Topic8\", \"Topic8\", \"Topic8\", \"Topic8\", \"Topic8\", \"Topic8\", \"Topic8\", \"Topic8\", \"Topic8\", \"Topic8\", \"Topic8\", \"Topic8\", \"Topic8\", \"Topic8\", \"Topic8\", \"Topic8\", \"Topic8\", \"Topic8\", \"Topic8\", \"Topic8\", \"Topic8\", \"Topic8\", \"Topic8\", \"Topic8\", \"Topic8\", \"Topic8\", \"Topic8\", \"Topic8\", \"Topic8\", \"Topic8\", \"Topic8\", \"Topic9\", \"Topic9\", \"Topic9\", \"Topic9\", \"Topic9\", \"Topic9\", \"Topic9\", \"Topic9\", \"Topic9\", \"Topic9\", \"Topic9\", \"Topic9\", \"Topic9\", \"Topic9\", \"Topic9\", \"Topic9\", \"Topic9\", \"Topic9\", \"Topic9\", \"Topic9\", \"Topic9\", \"Topic9\", \"Topic9\", \"Topic9\", \"Topic9\", \"Topic9\", \"Topic9\", \"Topic9\", \"Topic9\", \"Topic9\", \"Topic9\"], \"Freq\": [4553.0, 3270.0, 1180.0, 3998.0, 2313.0, 2044.0, 780.0, 1992.0, 1926.0, 1936.0, 583.0, 620.0, 612.0, 1034.0, 632.0, 525.0, 1562.0, 592.0, 994.0, 458.0, 474.0, 446.0, 602.0, 1052.0, 311.0, 277.0, 322.0, 956.0, 519.0, 912.0, 4552.0712890625, 2312.3037109375, 2044.0162353515625, 1991.5648193359375, 1925.179931640625, 1561.6033935546875, 1934.690185546875, 1051.5394287109375, 955.7719116210938, 911.710205078125, 903.2675170898438, 830.6157836914062, 778.644287109375, 595.9423828125, 500.9741516113281, 492.2336120605469, 478.8122863769531, 465.6852722167969, 449.1644287109375, 415.3645324707031, 408.3113708496094, 396.53424072265625, 385.60821533203125, 364.32196044921875, 324.30096435546875, 310.1474304199219, 305.52850341796875, 274.7431640625, 269.9425964355469, 255.9077606201172, 898.1432495117188, 654.8873901367188, 1093.5252685546875, 573.492431640625, 3560.07275390625, 675.1883544921875, 1192.4742431640625, 495.4023132324219, 831.6575317382812, 542.314208984375, 475.2562255859375, 602.0114135742188, 518.2985229492188, 483.99310302734375, 480.21258544921875, 444.92987060546875, 402.29205322265625, 361.56427001953125, 343.8282775878906, 340.0191650390625, 321.521484375, 301.9501953125, 281.8764343261719, 276.8938903808594, 268.8393859863281, 252.22076416015625, 246.2061309814453, 245.6513214111328, 211.6277618408203, 208.81903076171875, 207.32008361816406, 195.9747314453125, 194.0795440673828, 183.92434692382812, 172.05496215820312, 159.10231018066406, 158.94393920898438, 150.72927856445312, 150.5601348876953, 148.40542602539062, 147.85540771484375, 999.5795288085938, 398.5911865234375, 317.9265441894531, 277.4917297363281, 293.4526062011719, 473.2236328125, 908.5802001953125, 2438.477783203125, 269.7325439453125, 288.3903503417969, 262.7146301269531, 338.9081115722656, 437.26025390625, 281.1413269042969, 274.5067443847656, 237.53273010253906, 225.9407501220703, 224.10409545898438, 195.15379333496094, 191.4864501953125, 178.0570831298828, 162.4591064453125, 161.12994384765625, 158.21656799316406, 153.53765869140625, 141.41522216796875, 134.9442138671875, 127.88092041015625, 125.30697631835938, 123.75147247314453, 121.9571762084961, 113.54681396484375, 111.16082000732422, 109.89520263671875, 106.81948852539062, 103.47503662109375, 98.85249328613281, 92.34522247314453, 91.65383911132812, 89.2257308959961, 86.31842803955078, 79.91496276855469, 69.55919647216797, 769.7738647460938, 94.3556900024414, 408.9230041503906, 534.2411499023438, 159.38787841796875, 259.2500915527344, 172.23301696777344, 124.68933868408203, 611.4277954101562, 314.13482666015625, 294.4579772949219, 472.39739990234375, 261.1160888671875, 243.17156982421875, 208.41375732421875, 617.0932006835938, 175.22804260253906, 171.084716796875, 162.61753845214844, 158.84524536132812, 155.74002075195312, 147.43524169921875, 139.48643493652344, 117.87281036376953, 112.22501373291016, 111.69390106201172, 111.19422149658203, 105.75304412841797, 104.54759979248047, 93.12307739257812, 84.41263580322266, 84.14981079101562, 83.4653091430664, 80.44747161865234, 78.90787506103516, 77.26138305664062, 75.95539093017578, 74.76992797851562, 165.63365173339844, 184.80374145507812, 89.91287994384766, 245.9500274658203, 194.4363555908203, 175.44647216796875, 165.77040100097656, 145.75819396972656, 141.90829467773438, 126.6655502319336, 111.58687591552734, 100.04659271240234, 97.31659698486328, 93.5490493774414, 89.38037109375, 88.02078247070312, 75.34362030029297, 73.33637237548828, 73.28044891357422, 69.89873504638672, 67.20439147949219, 61.24592208862305, 58.386383056640625, 56.99657440185547, 56.929115295410156, 52.16649627685547, 51.70621109008789, 51.47703552246094, 49.1640739440918, 47.727962493896484, 47.43503952026367, 46.431697845458984, 45.75544738769531, 105.26214599609375, 497.52484130859375, 112.08937072753906, 637.1121215820312, 71.01782989501953, 114.39258575439453, 66.9026107788086, 524.6907958984375, 458.0079040527344, 321.6990661621094, 174.2904052734375, 172.50350952148438, 154.44326782226562, 151.51707458496094, 146.18130493164062, 141.64125061035156, 131.92698669433594, 127.35405731201172, 111.6115493774414, 110.50421142578125, 108.29466247558594, 98.40633392333984, 96.64974212646484, 90.49369812011719, 90.37207794189453, 84.57936096191406, 80.06617736816406, 72.05445098876953, 69.7095718383789, 67.4910659790039, 64.69910430908203, 62.538673400878906, 59.294212341308594, 58.7283935546875, 57.69663619995117, 56.9893913269043, 57.0743522644043, 130.3282928466797, 207.14207458496094, 110.97101593017578, 135.5782928466797, 59.81379699707031, 310.8088073730469, 282.97406005859375, 263.1131896972656, 224.2378387451172, 182.7486572265625, 155.37008666992188, 141.46983337402344, 134.79904174804688, 132.10609436035156, 124.48388671875, 115.39698791503906, 108.0831069946289, 106.1895751953125, 99.94490051269531, 99.51288604736328, 92.44120788574219, 85.99542999267578, 85.7050552368164, 74.28731536865234, 71.0869369506836, 65.76624298095703, 58.789947509765625, 52.14027786254883, 51.200950622558594, 50.752777099609375, 50.204410552978516, 47.108219146728516, 46.70388412475586, 45.80381774902344, 42.22998046875, 567.5714721679688, 93.50511169433594, 129.97451782226562, 276.98553466796875, 222.8863525390625, 171.71954345703125, 138.67184448242188, 127.4007339477539, 117.89325714111328, 109.11709594726562, 105.90856170654297, 69.16692352294922, 65.62512969970703, 63.647281646728516, 57.54806137084961, 57.13212585449219, 56.26271057128906, 54.903602600097656, 53.892127990722656, 52.76088333129883, 50.02482223510742, 50.02286148071289, 49.8212890625, 47.068145751953125, 46.75151824951172, 43.86341857910156, 43.82851791381836, 43.34598159790039, 43.099388122558594, 41.73811340332031, 40.9093017578125, 40.35758972167969, 40.03832244873047, 43.6861686706543, 225.81813049316406, 90.51914978027344, 79.39356231689453, 78.4957504272461, 75.53424835205078, 71.15741729736328, 58.91914749145508, 58.00369644165039, 53.469093322753906, 46.74778366088867, 45.7387809753418, 45.411468505859375, 38.57863998413086, 34.82785415649414, 33.79767608642578, 33.283546447753906, 29.900074005126953, 29.79207992553711, 27.810007095336914, 27.206331253051758, 26.746082305908203, 26.171489715576172, 26.114303588867188, 24.482858657836914, 23.09580421447754, 21.06684112548828, 20.424232482910156, 20.211627960205078, 19.101917266845703, 18.300891876220703, 91.49787139892578], \"Term\": [\"room\", \"stay\", \"not\", \"hotel\", \"staff\", \"good\", \"check\", \"clean\", \"great\", \"breakfast\", \"pool\", \"restaurant\", \"close\", \"go\", \"do\", \"family\", \"nice\", \"front_desk\", \"time\", \"food\", \"also\", \"experience\", \"make\", \"friendly\", \"everything\", \"call\", \"always\", \"comfortable\", \"take\", \"location\", \"room\", \"staff\", \"good\", \"clean\", \"great\", \"nice\", \"breakfast\", \"friendly\", \"comfortable\", \"location\", \"bed\", \"area\", \"helpful\", \"bad\", \"excellent\", \"free\", \"lot\", \"be\", \"price\", \"work\", \"love\", \"little\", \"parking\", \"small\", \"walk\", \"beach\", \"right\", \"overall\", \"extremely\", \"airport\", \"night\", \"could\", \"get\", \"well\", \"hotel\", \"need\", \"would\", \"day\", \"stay\", \"not\", \"place\", \"make\", \"take\", \"shuttle\", \"back\", \"enjoy\", \"first\", \"visit\", \"recommend\", \"wonderful\", \"trip\", \"see\", \"many\", \"book\", \"year\", \"kid\", \"metro\", \"away\", \"early\", \"help\", \"resort\", \"thank\", \"weekend\", \"week\", \"stop\", \"happy\", \"complaint\", \"home\", \"welcome\", \"drink\", \"extra\", \"go\", \"find\", \"feel\", \"beautiful\", \"want\", \"come\", \"time\", \"stay\", \"property\", \"much\", \"next\", \"place\", \"hotel\", \"service\", \"tell\", \"ask\", \"arrive\", \"hour\", \"drive\", \"wait\", \"issue\", \"request\", \"provide\", \"last\", \"late\", \"ever\", \"customer_service\", \"can\", \"may\", \"daughter\", \"order\", \"anyone\", \"bring\", \"sit\", \"worth\", \"member\", \"clerk\", \"else\", \"housekeeping\", \"professional\", \"expectation\", \"wedding\", \"twice\", \"check\", \"allow\", \"experience\", \"front_desk\", \"know\", \"people\", \"give\", \"minute\", \"close\", \"view\", \"suite\", \"also\", \"offer\", \"quiet\", \"pleasant\", \"restaurant\", \"buffet\", \"eat\", \"tv\", \"return\", \"complimentary\", \"accommodate\", \"plenty\", \"able\", \"quick\", \"mall\", \"evening\", \"distance\", \"shop\", \"bedroom\", \"real\", \"balcony\", \"snack\", \"within_walk\", \"egg\", \"quality\", \"waffle\", \"kitchen\", \"coffee\", \"morning\", \"high\", \"floor\", \"water\", \"desk\", \"towel\", \"dirty\", \"charge\", \"carpet\", \"highway\", \"smoke\", \"person\", \"fantastic\", \"safe\", \"fresh\", \"stain\", \"break\", \"complain\", \"window\", \"low\", \"maintenance\", \"bug\", \"sink\", \"air\", \"course\", \"card\", \"huge\", \"ok\", \"happen\", \"stand\", \"sofa\", \"hold\", \"money\", \"do\", \"open\", \"not\", \"something\", \"say\", \"elevator\", \"family\", \"food\", \"always\", \"never\", \"business\", \"use\", \"spend\", \"value\", \"meet\", \"employee\", \"center\", \"marriott\", \"pm\", \"child\", \"road\", \"point\", \"highly_recommend\", \"local\", \"actually\", \"expensive\", \"outstanding\", \"man\", \"cost\", \"rest\", \"probably\", \"polite\", \"consider\", \"dining\", \"attentive\", \"embassy_suit\", \"city\", \"travel\", \"try\", \"guest\", \"pittsburgh\", \"everything\", \"door\", \"thing\", \"smell\", \"think\", \"pretty\", \"shower\", \"min\", \"loud\", \"fine\", \"ready\", \"outside\", \"like\", \"husband\", \"friend\", \"hallway\", \"average\", \"game\", \"internet\", \"name\", \"better\", \"watch\", \"usual\", \"courtyard\", \"wake\", \"air_conditioner\", \"horrible\", \"base\", \"chair\", \"folk\", \"pool\", \"wall\", \"old\", \"call\", \"hot\", \"run\", \"cold\", \"available\", \"s\", \"continental\", \"manager\", \"move\", \"item\", \"someone\", \"whole\", \"mattress\", \"refrigerator\", \"fix\", \"job\", \"event\", \"basic\", \"that\", \"type\", \"security\", \"later\", \"attraction\", \"customer\", \"fact\", \"system\", \"follow\", \"guy\", \"sign\", \"there\", \"put\", \"convenient\", \"wifi\", \"unit\", \"microwave\", \"receive\", \"space\", \"indoor_pool\", \"build\", \"condition\", \"uncomfortable\", \"couch\", \"kitchenette\", \"decor\", \"talk\", \"atmosphere\", \"hair\", \"adequate\", \"computer\", \"television\", \"dry\", \"fit\", \"interstate\", \"lay\", \"taste\", \"please\", \"shampoo\", \"yet\", \"curtain\", \"february\", \"saturday\", \"full\"], \"Total\": [4553.0, 3270.0, 1180.0, 3998.0, 2313.0, 2044.0, 780.0, 1992.0, 1926.0, 1936.0, 583.0, 620.0, 612.0, 1034.0, 632.0, 525.0, 1562.0, 592.0, 994.0, 458.0, 474.0, 446.0, 602.0, 1052.0, 311.0, 277.0, 322.0, 956.0, 519.0, 912.0, 4553.0458984375, 2313.27880859375, 2044.9908447265625, 1992.5396728515625, 1926.1549072265625, 1562.578125, 1936.2586669921875, 1052.5140380859375, 956.7467041015625, 912.6849975585938, 904.2423095703125, 831.590576171875, 779.6190795898438, 596.9171142578125, 501.948974609375, 493.2084655761719, 479.7870788574219, 466.6601257324219, 450.1391296386719, 416.33941650390625, 409.28607177734375, 397.509033203125, 386.58294677734375, 365.2966613769531, 325.2758483886719, 311.1221618652344, 306.5032653808594, 275.71807861328125, 270.91754150390625, 256.8826599121094, 901.6926879882812, 661.816650390625, 1114.2119140625, 586.927490234375, 3998.186279296875, 704.6806640625, 1302.7652587890625, 688.573486328125, 3270.97265625, 1180.28125, 815.001220703125, 602.97509765625, 519.2622680664062, 484.95703125, 481.17620849609375, 445.8934631347656, 403.2557067871094, 362.5279235839844, 344.79315185546875, 340.98291015625, 322.4850769042969, 302.9138488769531, 282.8399963378906, 277.8575134277344, 269.8036804199219, 253.18458557128906, 247.171875, 246.6150360107422, 212.59161376953125, 209.7827911376953, 208.2837677001953, 196.93817138671875, 195.04327392578125, 184.8880157470703, 173.01937866210938, 160.0659637451172, 159.90782165527344, 151.69296264648438, 151.523681640625, 149.36924743652344, 148.8190460205078, 1034.3662109375, 405.3663635253906, 322.9915466308594, 282.70941162109375, 299.7063903808594, 491.4056091308594, 994.5476684570312, 3270.97265625, 283.5216369628906, 312.751220703125, 351.49835205078125, 815.001220703125, 3998.186279296875, 762.2747192382812, 275.46917724609375, 238.4951171875, 226.9031524658203, 225.06651306152344, 196.1163787841797, 192.44915771484375, 179.01971435546875, 163.42164611816406, 162.0924072265625, 159.1790313720703, 154.5001678466797, 142.37774658203125, 135.90679931640625, 128.84353637695312, 126.2695083618164, 124.71415710449219, 122.91987609863281, 114.50947570800781, 112.1235122680664, 110.857666015625, 107.78206634521484, 104.43758392333984, 99.81495666503906, 93.30799102783203, 92.61631774902344, 90.18822479248047, 87.28103637695312, 80.87734985351562, 70.52173614501953, 780.5997924804688, 95.99299621582031, 446.3675231933594, 592.6715698242188, 181.68072509765625, 382.7366638183594, 357.45684814453125, 231.4582061767578, 612.4066162109375, 315.1133728027344, 295.4368591308594, 474.0650329589844, 262.0950012207031, 244.1502685546875, 209.39254760742188, 620.3474731445312, 176.2071075439453, 172.06350708007812, 163.5963592529297, 159.8240203857422, 156.71900939941406, 148.41404724121094, 140.46522521972656, 118.85164642333984, 113.20379638671875, 112.67314910888672, 112.1731185913086, 106.73163604736328, 105.5262222290039, 94.10177612304688, 85.39176940917969, 85.12838745117188, 84.44424438476562, 81.42599487304688, 79.8867416381836, 78.24019622802734, 76.9342041015625, 75.74881744384766, 168.1773223876953, 315.2694396972656, 127.8515625, 246.93174743652344, 195.41818237304688, 176.42840576171875, 166.752197265625, 146.7400665283203, 142.89010620117188, 127.64816284179688, 112.56909942626953, 101.02864837646484, 98.29852294921875, 94.53092193603516, 90.36219024658203, 89.00270080566406, 76.32532501220703, 74.31828308105469, 74.26234436035156, 70.88048553466797, 68.18627166748047, 62.22812271118164, 59.36818313598633, 57.97834777832031, 57.91108322143555, 53.14847183227539, 52.6878776550293, 52.45878982543945, 50.14602279663086, 48.709869384765625, 48.4172477722168, 47.41389846801758, 46.73738098144531, 109.87648010253906, 632.8568115234375, 131.43418884277344, 1180.28125, 89.80843353271484, 268.62139892578125, 161.33753967285156, 525.6672973632812, 458.9843444824219, 322.6753845214844, 175.2666778564453, 173.47976684570312, 155.41969299316406, 152.4934844970703, 147.15771484375, 142.61776733398438, 132.90377807617188, 128.3306427001953, 112.58844757080078, 111.48046875, 109.27114868164062, 99.38280487060547, 97.626220703125, 91.47013092041016, 91.34859466552734, 85.55593872070312, 81.04240417480469, 73.03070831298828, 70.68665313720703, 68.46745300292969, 65.67545318603516, 63.51502990722656, 60.27046203613281, 59.70486831665039, 58.67287063598633, 57.96596145629883, 58.06784439086914, 135.65097045898438, 276.2686462402344, 196.82150268554688, 292.75830078125, 63.784610748291016, 311.7956237792969, 283.9609680175781, 264.10015869140625, 225.2247314453125, 183.73570251464844, 156.3570098876953, 142.45663452148438, 135.78646850585938, 133.0931396484375, 125.47086334228516, 116.38392639160156, 109.0701675415039, 107.17655181884766, 100.93183135986328, 100.49979400634766, 93.42840576171875, 86.98250579833984, 86.69214630126953, 75.2742919921875, 72.07415008544922, 66.75314331054688, 59.77733612060547, 53.12799072265625, 52.18806838989258, 51.73982238769531, 51.19191360473633, 48.09505081176758, 47.69112014770508, 46.790618896484375, 43.21787643432617, 583.840087890625, 98.2442626953125, 286.8030090332031, 277.97344970703125, 223.874267578125, 172.70765686035156, 139.65997314453125, 128.3885955810547, 118.88103485107422, 110.10508728027344, 106.89644622802734, 70.15504455566406, 66.61317443847656, 64.63519287109375, 58.536048889160156, 58.120155334472656, 57.25059127807617, 55.89166259765625, 54.880184173583984, 53.74895477294922, 51.01267623901367, 51.01067352294922, 50.8092155456543, 48.05622100830078, 47.73931121826172, 44.851627349853516, 44.81681823730469, 44.33401107788086, 44.08744430541992, 42.726593017578125, 41.897396087646484, 41.345481872558594, 41.026084899902344, 90.55660247802734, 226.81788635253906, 91.51879119873047, 80.39330291748047, 79.49543762207031, 76.53457641601562, 72.15708923339844, 59.91936492919922, 59.00338363647461, 54.469085693359375, 47.74771499633789, 46.73880386352539, 46.41179656982422, 39.578250885009766, 35.828208923339844, 34.797279357910156, 34.283180236816406, 30.8998966217041, 30.792015075683594, 28.810461044311523, 28.20783233642578, 27.746334075927734, 27.171142578125, 27.115093231201172, 25.482349395751953, 24.095502853393555, 22.067466735839844, 21.42377471923828, 21.21209144592285, 20.11471939086914, 19.300525665283203, 104.79644012451172], \"loglift\": [30.0, 29.0, 28.0, 27.0, 26.0, 25.0, 24.0, 23.0, 22.0, 21.0, 20.0, 19.0, 18.0, 17.0, 16.0, 15.0, 14.0, 13.0, 12.0, 11.0, 10.0, 9.0, 8.0, 7.0, 6.0, 5.0, 4.0, 3.0, 2.0, 1.0, 0.9391000270843506, 0.9388999938964844, 0.9388999938964844, 0.9387999773025513, 0.9387999773025513, 0.9387000203132629, 0.9384999871253967, 0.9383999705314636, 0.9383000135421753, 0.9383000135421753, 0.9383000135421753, 0.9381999969482422, 0.9380999803543091, 0.9376999735832214, 0.9373999834060669, 0.9373999834060669, 0.9373000264167786, 0.9372000098228455, 0.9372000098228455, 0.9369999766349792, 0.9369000196456909, 0.9369000196456909, 0.9368000030517578, 0.9366999864578247, 0.9362999796867371, 0.9362000226974487, 0.9361000061035156, 0.9358000159263611, 0.935699999332428, 0.9355000257492065, 0.9354000091552734, 0.9287999868392944, 0.9205999970436096, 0.9161999821662903, 0.8233000040054321, 0.8966000080108643, 0.8508999943733215, 0.6100999712944031, -0.4300999939441681, 0.16169999539852142, 0.4000000059604645, 1.6358000040054321, 1.635599970817566, 1.6354000568389893, 1.6354000568389893, 1.6353000402450562, 1.6349999904632568, 1.6347999572753906, 1.634600043296814, 1.634600043296814, 1.6344000101089478, 1.6341999769210815, 1.6339999437332153, 1.6339000463485718, 1.6338000297546387, 1.6335999965667725, 1.6334999799728394, 1.6334999799728394, 1.6328999996185303, 1.6327999830245972, 1.6327999830245972, 1.6325000524520874, 1.6325000524520874, 1.632200002670288, 1.6318000555038452, 1.6313999891281128, 1.6313999891281128, 1.63100004196167, 1.63100004196167, 1.6309000253677368, 1.6309000253677368, 1.6031999588012695, 1.6205999851226807, 1.6216000318527222, 1.6188000440597534, 1.6162999868392944, 1.5996999740600586, 1.5470000505447388, 1.3437000513076782, 1.5875999927520752, 1.5563000440597534, 1.3463000059127808, 0.7599999904632568, -0.5756999850273132, 0.6399999856948853, 2.400599956512451, 2.4000000953674316, 2.3998000621795654, 2.3998000621795654, 2.3991000652313232, 2.3989999294281006, 2.398699998855591, 2.398099899291992, 2.398099899291992, 2.3980000019073486, 2.3977999687194824, 2.3973000049591064, 2.396899938583374, 2.3966000080108643, 2.396399974822998, 2.3963000774383545, 2.396199941635132, 2.3956000804901123, 2.395400047302246, 2.3952999114990234, 2.3951001167297363, 2.3947999477386475, 2.394399881362915, 2.393699884414673, 2.3935999870300293, 2.3933000564575195, 2.3929998874664307, 2.3921000957489014, 2.3903000354766846, 2.3901000022888184, 2.386899948120117, 2.3164000511169434, 2.300299882888794, 2.273099899291992, 2.0144999027252197, 1.6739000082015991, 1.7855000495910645, 2.5852999687194824, 2.5838000774383545, 2.5836000442504883, 2.583400011062622, 2.583199977874756, 2.582900047302246, 2.5822999477386475, 2.581700086593628, 2.581399917602539, 2.581199884414673, 2.580899953842163, 2.5808000564575195, 2.580699920654297, 2.5803000926971436, 2.579900026321411, 2.578700065612793, 2.5782999992370605, 2.578200101852417, 2.578200101852417, 2.577699899673462, 2.5776000022888184, 2.5764999389648438, 2.5754001140594482, 2.5754001140594482, 2.5752999782562256, 2.5748000144958496, 2.5745999813079834, 2.5743000507354736, 2.5741000175476074, 2.573899984359741, 2.571700096130371, 2.052799940109253, 2.2348999977111816, 2.727299928665161, 2.726300001144409, 2.7256999015808105, 2.725399971008301, 2.724600076675415, 2.724400043487549, 2.723599910736084, 2.7225000858306885, 2.7214999198913574, 2.721299886703491, 2.7207999229431152, 2.720400094985962, 2.7202000617980957, 2.7183001041412354, 2.7179999351501465, 2.7179999351501465, 2.7172999382019043, 2.7167999744415283, 2.715399980545044, 2.714600086212158, 2.714200019836426, 2.714200019836426, 2.712599992752075, 2.7125000953674316, 2.712399959564209, 2.7114999294281006, 2.710900068283081, 2.7107999324798584, 2.710400104522705, 2.710099935531616, 2.6884000301361084, 2.4907000064849854, 2.5720999240875244, 2.1147000789642334, 2.496500015258789, 1.8775999546051025, 1.8509999513626099, 2.782099962234497, 2.7818000316619873, 2.780900001525879, 2.77839994430542, 2.7783000469207764, 2.7776999473571777, 2.7774999141693115, 2.7772998809814453, 2.777100086212158, 2.776599884033203, 2.7762999534606934, 2.7751998901367188, 2.7751998901367188, 2.7750000953674316, 2.7741000652313232, 2.773900032043457, 2.773200035095215, 2.773200035095215, 2.7725000381469727, 2.7718000411987305, 2.7704999446868896, 2.7699999809265137, 2.7695999145507812, 2.7690000534057617, 2.7685000896453857, 2.7676000595092773, 2.7674999237060547, 2.767199993133545, 2.7669999599456787, 2.766700029373169, 2.7439000606536865, 2.496000051498413, 2.210900068283081, 2.01419997215271, 2.7197000980377197, 2.901400089263916, 2.901099920272827, 2.900899887084961, 2.9001998901367188, 2.899199962615967, 2.8982999324798584, 2.897700071334839, 2.8973000049591064, 2.897200107574463, 2.896699905395508, 2.8961000442504883, 2.8954999446868896, 2.895400047302246, 2.8947999477386475, 2.894700050354004, 2.8940000534057617, 2.893199920654297, 2.893199920654297, 2.891400098800659, 2.8907999992370605, 2.889699935913086, 2.888000011444092, 2.8857998847961426, 2.885499954223633, 2.8854000568389893, 2.8850998878479004, 2.8838999271392822, 2.883699893951416, 2.8833000659942627, 2.881500005722046, 2.8763999938964844, 2.8552000522613525, 2.1131999492645264, 3.225600004196167, 3.2248001098632812, 3.223400115966797, 3.222100019454956, 3.2214999198913574, 3.2207999229431152, 3.2202000617980957, 3.219899892807007, 3.2149999141693115, 3.214200019836426, 3.2137999534606934, 3.2121999263763428, 3.2119998931884766, 3.2118000984191895, 3.2112998962402344, 3.2109999656677246, 3.210599899291992, 3.2095999717712402, 3.2095999717712402, 3.2095000743865967, 3.208400011062622, 3.2083001136779785, 3.206899881362915, 3.206899881362915, 3.2065999507904053, 3.2065000534057617, 3.2058000564575195, 3.2053000926971436, 3.2049999237060547, 3.2047998905181885, 2.500200033187866, 3.5804998874664307, 3.573899984359741, 3.5724000930786133, 3.572200059890747, 3.571700096130371, 3.571000099182129, 3.5680999755859375, 3.5678000450134277, 3.5664000511169434, 3.563699960708618, 3.5632998943328857, 3.5631000995635986, 3.559299945831299, 3.5566000938415527, 3.555799961090088, 3.555299997329712, 3.552000045776367, 3.5518999099731445, 3.5495998859405518, 3.548799991607666, 3.5481998920440674, 3.5473999977111816, 3.547300100326538, 3.5448999404907227, 3.5425000190734863, 3.5385000705718994, 3.537100076675415, 3.536600112915039, 3.5332000255584717, 3.5316998958587646, 3.449199914932251], \"logprob\": [30.0, 29.0, 28.0, 27.0, 26.0, 25.0, 24.0, 23.0, 22.0, 21.0, 20.0, 19.0, 18.0, 17.0, 16.0, 15.0, 14.0, 13.0, 12.0, 11.0, 10.0, 9.0, 8.0, 7.0, 6.0, 5.0, 4.0, 3.0, 2.0, 1.0, -2.6054000854492188, -3.2827000617980957, -3.406100034713745, -3.4321000576019287, -3.4660000801086426, -3.675299882888794, -3.4609999656677246, -4.070700168609619, -4.166200160980225, -4.213399887084961, -4.222700119018555, -4.306600093841553, -4.371200084686279, -4.638599872589111, -4.81220006942749, -4.829800128936768, -4.857399940490723, -4.885200023651123, -4.921299934387207, -4.999599933624268, -5.01669979095459, -5.046000003814697, -5.07390022277832, -5.13070011138916, -5.247099876403809, -5.2916998863220215, -5.306700229644775, -5.412899971008301, -5.430500030517578, -5.48390007019043, -4.228400230407715, -4.544300079345703, -4.031599998474121, -4.677000045776367, -2.8512001037597656, -4.513700008392334, -3.9449000358581543, -4.823400020599365, -4.305300235748291, -4.732900142669678, -4.8649001121521, -3.9303998947143555, -4.080100059509277, -4.148600101470947, -4.156400203704834, -4.232699871063232, -4.333499908447266, -4.440199851989746, -4.490499973297119, -4.5015997886657715, -4.557600021362305, -4.6203999519348145, -4.689199924468994, -4.706999778747559, -4.736499786376953, -4.800300121307373, -4.82450008392334, -4.826700210571289, -4.975800037384033, -4.989200115203857, -4.996399879455566, -5.052700042724609, -5.062399864196777, -5.116099834442139, -5.182799816131592, -5.261099815368652, -5.2621002197265625, -5.315199851989746, -5.316299915313721, -5.330699920654297, -5.334400177001953, -3.42330002784729, -4.342700004577637, -4.56879997253418, -4.704899787902832, -4.648900032043457, -4.17110013961792, -3.5188000202178955, -2.5315001010894775, -4.7332000732421875, -4.666299819946289, -4.7596001625061035, -4.504899978637695, -4.250100135803223, -4.691800117492676, -3.9489998817443848, -4.093699932098389, -4.143700122833252, -4.151899814605713, -4.290200233459473, -4.309199810028076, -4.381899833679199, -4.473599910736084, -4.481800079345703, -4.5, -4.530099868774414, -4.612299919128418, -4.65910005569458, -4.712900161743164, -4.7332000732421875, -4.745699882507324, -4.760300159454346, -4.8317999839782715, -4.853000164031982, -4.864500045776367, -4.892899990081787, -4.924699783325195, -4.970399856567383, -5.03849983215332, -5.046000003814697, -5.072800159454346, -5.105999946594238, -5.183000087738037, -5.321800231933594, -2.9179000854492188, -5.016900062561035, -3.55049991607666, -3.2832000255584717, -4.492700099945068, -4.006199836730957, -4.415200233459473, -4.7382001876831055, -2.9653000831604004, -3.6312999725341797, -3.696000099182129, -3.223299980163574, -3.816200017929077, -3.887399911880493, -4.041600227355957, -2.9560999870300293, -4.215000152587891, -4.238999843597412, -4.289700031280518, -4.313199996948242, -4.332900047302246, -4.387700080871582, -4.44320011138916, -4.611499786376953, -4.660600185394287, -4.66540002822876, -4.6697998046875, -4.71999979019165, -4.731500148773193, -4.8471999168396, -4.945400238037109, -4.948500156402588, -4.956699848175049, -4.993500232696533, -5.012800216674805, -5.033899784088135, -5.051000118255615, -5.066699981689453, -4.271299839019775, -4.161799907684326, -4.882299900054932, -3.731600046157837, -3.9667000770568848, -4.069399833679199, -4.126200199127197, -4.254799842834473, -4.281599998474121, -4.395199775695801, -4.521999835968018, -4.631100177764893, -4.65880012512207, -4.698299884796143, -4.743899822235107, -4.759200096130371, -4.914700031280518, -4.941699981689453, -4.942500114440918, -4.989699840545654, -5.0289998054504395, -5.1219000816345215, -5.1697001457214355, -5.19379997253418, -5.195000171661377, -5.282299995422363, -5.291200160980225, -5.295599937438965, -5.341599941253662, -5.371300220489502, -5.377399921417236, -5.398799896240234, -5.41349983215332, -4.5802998542785645, -3.027100086212158, -4.517499923706055, -2.7797999382019043, -4.973800182342529, -4.497099876403809, -5.0335001945495605, -2.921299934387207, -3.0571999549865723, -3.4105000495910645, -4.023399829864502, -4.033699989318848, -4.1442999839782715, -4.163400173187256, -4.1992998123168945, -4.230800151824951, -4.3018999099731445, -4.337100028991699, -4.469099998474121, -4.479100227355957, -4.499300003051758, -4.59499979019165, -4.61299991607666, -4.678800106048584, -4.680200099945068, -4.746399879455566, -4.801300048828125, -4.906700134277344, -4.939799785614014, -4.972099781036377, -5.014400005340576, -5.048299789428711, -5.101600170135498, -5.111199855804443, -5.128900051116943, -5.141200065612793, -5.139800071716309, -4.314000129699707, -3.8506999015808105, -4.474800109863281, -4.274600028991699, -5.092899799346924, -3.3243000507354736, -3.418100118637085, -3.4909000396728516, -3.650700092315674, -3.855299949645996, -4.017600059509277, -4.111400127410889, -4.1596999168396, -4.179800033569336, -4.239299774169922, -4.315100193023682, -4.380499839782715, -4.398200035095215, -4.458799839019775, -4.463200092315674, -4.536900043487549, -4.6092000007629395, -4.612500190734863, -4.755499839782715, -4.799499988555908, -4.877299785614014, -4.989500045776367, -5.109499931335449, -5.127699851989746, -5.136499881744385, -5.147299766540527, -5.210999965667725, -5.219600200653076, -5.239099979400635, -5.320300102233887, -2.722100019454956, -4.525400161743164, -4.196100234985352, -3.1149001121520996, -3.332200050354004, -3.5929999351501465, -3.80679988861084, -3.8914999961853027, -3.969099998474121, -4.046500205993652, -4.076300144195557, -4.502399921417236, -4.554900169372559, -4.5854997634887695, -4.686299800872803, -4.69350004196167, -4.708899974822998, -4.73330020904541, -4.7519001960754395, -4.773099899291992, -4.826399803161621, -4.826399803161621, -4.830399990081787, -4.88730001449585, -4.894000053405762, -4.957799911499023, -4.958600044250488, -4.969699859619141, -4.975399971008301, -5.007500171661377, -5.027500152587891, -5.041100025177002, -5.048999786376953, -4.961900234222412, -2.963399887084961, -3.8775999546051025, -4.008699893951416, -4.020100116729736, -4.058599948883057, -4.118299961090088, -4.307000160217285, -4.322700023651123, -4.404099941253662, -4.538400173187256, -4.560200214385986, -4.567399978637695, -4.730500221252441, -4.832699775695801, -4.862800121307373, -4.8780999183654785, -4.985300064086914, -4.988900184631348, -5.057799816131592, -5.079699993133545, -5.096799850463867, -5.118500232696533, -5.120699882507324, -5.185200214385986, -5.243500232696533, -5.3354997634887695, -5.366399765014648, -5.3769001960754395, -5.4334001541137695, -5.476200103759766, -3.86680006980896]}, \"token.table\": {\"Topic\": [4, 4, 6, 9, 5, 7, 1, 3, 6, 1, 4, 6, 3, 1, 3, 3, 9, 6, 8, 8, 7, 2, 2, 1, 4, 7, 8, 1, 1, 1, 2, 1, 4, 7, 2, 5, 1, 4, 3, 4, 5, 9, 6, 8, 3, 5, 5, 6, 7, 5, 1, 3, 6, 2, 6, 1, 3, 4, 4, 8, 8, 1, 2, 1, 5, 2, 4, 9, 9, 6, 8, 9, 6, 9, 1, 7, 5, 7, 9, 8, 3, 3, 1, 2, 9, 5, 6, 5, 4, 1, 5, 7, 2, 3, 9, 2, 4, 4, 1, 5, 3, 6, 6, 2, 4, 8, 3, 7, 1, 3, 6, 2, 3, 2, 1, 8, 6, 5, 9, 1, 2, 2, 5, 7, 2, 9, 8, 5, 7, 8, 6, 1, 5, 7, 1, 1, 3, 6, 9, 7, 1, 2, 5, 1, 2, 3, 1, 2, 5, 1, 1, 2, 6, 8, 9, 7, 5, 2, 2, 1, 2, 4, 6, 5, 5, 2, 7, 8, 1, 2, 3, 3, 5, 7, 9, 7, 9, 3, 8, 8, 2, 4, 9, 2, 3, 3, 3, 8, 9, 7, 1, 6, 1, 1, 7, 1, 5, 5, 2, 4, 6, 8, 2, 6, 8, 3, 6, 3, 2, 9, 7, 1, 3, 1, 5, 2, 4, 8, 1, 2, 7, 1, 2, 6, 1, 2, 1, 1, 2, 1, 5, 4, 5, 1, 7, 1, 5, 3, 7, 6, 1, 1, 2, 3, 7, 5, 1, 2, 3, 6, 1, 2, 4, 9, 4, 6, 6, 6, 1, 7, 7, 1, 6, 3, 2, 3, 3, 5, 8, 4, 4, 4, 7, 4, 9, 2, 8, 3, 2, 6, 1, 4, 4, 1, 6, 1, 8, 8, 5, 9, 1, 5, 8, 8, 2, 1, 2, 3, 6, 9, 4, 7, 2, 8, 5, 3, 1, 7, 5, 4, 5, 8, 5, 7, 9, 6, 1, 5, 5, 1, 2, 2, 4, 8, 2, 9, 9, 9, 3, 2, 8, 8, 7, 7, 1, 2, 3, 5, 3, 6, 2, 2, 6, 4, 3, 8, 9, 9, 6, 7, 6, 4, 2, 4, 3, 7, 1, 5, 7, 1, 2, 7, 5, 3, 2, 2, 2, 1, 2, 8, 9, 5, 4, 2, 1, 3, 1, 2, 3, 2, 9], \"Freq\": [0.9928343892097473, 0.9904722571372986, 0.9935020208358765, 0.9708770513534546, 0.98426753282547, 0.9767167568206787, 0.9965639710426331, 0.9792380928993225, 0.010417426936328411, 0.00210941513068974, 0.9956439733505249, 0.9979069232940674, 0.995550811290741, 0.9992898106575012, 0.9960196614265442, 0.9979239702224731, 0.9770878553390503, 0.9833357334136963, 0.9810123443603516, 0.9891844391822815, 0.9887045621871948, 0.9975060820579529, 0.9975555539131165, 0.9984635710716248, 0.9867448806762695, 0.985508382320404, 0.9801485538482666, 0.9985854029655457, 0.9963932037353516, 0.014148803427815437, 0.9798046350479126, 0.9986261129379272, 0.9882916808128357, 0.9887174963951111, 0.9969138503074646, 0.9822616577148438, 0.9993499517440796, 0.000516459927894175, 0.9899796843528748, 0.9931495189666748, 0.9769542813301086, 0.9829944968223572, 0.9972344636917114, 0.9964980483055115, 0.9934530258178711, 0.986944317817688, 0.9949222803115845, 0.9896311163902283, 0.9831030368804932, 0.9937707185745239, 0.012810661457479, 0.9864209890365601, 0.9883670210838318, 0.02948744036257267, 0.9583418369293213, 0.9997291564941406, 0.9918352961540222, 0.9977031350135803, 0.987053394317627, 0.011892209760844707, 0.9952744245529175, 0.034594640135765076, 0.9625449776649475, 0.999219536781311, 0.9830015301704407, 0.9943228363990784, 0.9954121112823486, 0.9742785692214966, 0.9730290174484253, 0.9881941080093384, 0.9899633526802063, 0.9963940978050232, 0.9785671234130859, 0.9841929078102112, 0.9897000789642334, 0.009065954945981503, 0.9783912301063538, 0.9772348403930664, 0.9428584575653076, 0.9817742705345154, 0.993327796459198, 0.9942736625671387, 0.7188774943351746, 0.2788373529911041, 0.9853897094726562, 0.9919037818908691, 0.9885318279266357, 0.9949566125869751, 0.9931451082229614, 0.21173825860023499, 0.7869078516960144, 0.9966158270835876, 0.9908331632614136, 0.9943075776100159, 0.9571809768676758, 0.9972171187400818, 0.9938191175460815, 0.9889000058174133, 0.5826294422149658, 0.41527843475341797, 0.9859820008277893, 0.9816104173660278, 0.9931997656822205, 0.9979962110519409, 0.9895418882369995, 0.986065685749054, 0.9903233051300049, 0.9974482655525208, 0.9981094002723694, 0.9853228330612183, 0.9871375560760498, 0.08289133757352829, 0.9162852764129639, 0.9944963455200195, 0.9966132044792175, 0.9699099659919739, 0.9987305998802185, 0.9943836331367493, 0.944581925868988, 0.012384224683046341, 0.984545886516571, 0.9842947721481323, 0.014801425859332085, 0.9882772564888, 0.9968860745429993, 0.9731014966964722, 0.9840465784072876, 0.9962267279624939, 0.971820056438446, 0.9829943776130676, 0.9978553652763367, 0.9975497722625732, 0.9887340664863586, 0.9950268864631653, 0.9995115995407104, 0.09786196053028107, 0.9010049104690552, 0.11450770497322083, 0.868350088596344, 0.9920160174369812, 0.9818599224090576, 0.007179962936788797, 0.010769943706691265, 0.34969255328178406, 0.16785243153572083, 0.4811769723892212, 0.031903594732284546, 0.9667755961418152, 0.0009667755803093314, 0.9995154738426208, 0.9994004368782043, 0.5328627824783325, 0.4645470380783081, 0.9785811305046082, 0.9625711441040039, 0.984711229801178, 0.9854266047477722, 0.9933404922485352, 0.9962685704231262, 0.9992059469223022, 0.28939810395240784, 0.7039413452148438, 0.9839277267456055, 0.9949444532394409, 0.9842228889465332, 0.9954317808151245, 0.977231502532959, 0.996094822883606, 0.8904037475585938, 0.10929956287145615, 0.9952613711357117, 0.9933454990386963, 0.9721916913986206, 0.9907677173614502, 0.9846566319465637, 0.9830713272094727, 0.9568975567817688, 0.9943038821220398, 0.9907950162887573, 0.9839617013931274, 0.9953212738037109, 0.9901144504547119, 0.9695810675621033, 0.11558738350868225, 0.8751616477966309, 0.9925930500030518, 0.9967626929283142, 0.9845135807991028, 0.9588755369186401, 0.9890223145484924, 0.9987194538116455, 0.9852368235588074, 0.9992494583129883, 0.9983595013618469, 0.9917866587638855, 0.996857762336731, 0.9826024770736694, 0.9802641868591309, 0.9983828663825989, 0.9940256476402283, 0.9902859330177307, 0.9916138648986816, 0.9970301389694214, 0.9947734475135803, 0.9807268977165222, 0.9899460673332214, 0.995668351650238, 0.9862350225448608, 0.9952588677406311, 0.9811883568763733, 0.994208037853241, 0.45796605944633484, 0.5400543212890625, 0.03640451654791832, 0.9556185007095337, 0.4123457074165344, 0.586799681186676, 0.9835358262062073, 0.07673831284046173, 0.920859694480896, 0.9850965738296509, 0.9578806757926941, 0.04115339368581772, 0.9927728772163391, 0.2503567934036255, 0.7482253909111023, 0.9996300339698792, 0.9959047436714172, 0.003327075857669115, 0.4592125713825226, 0.5397018790245056, 0.9958221316337585, 0.9771462678909302, 0.5439273715019226, 0.4532727897167206, 0.13695067167282104, 0.8521375060081482, 0.9925164580345154, 0.9901882410049438, 0.9858866333961487, 0.9973956346511841, 0.9984920620918274, 0.2403741478919983, 0.6767054796218872, 0.08099563419818878, 0.9867900013923645, 0.015677763149142265, 0.015677763149142265, 0.015677763149142265, 0.9406657814979553, 0.5828211903572083, 0.41595029830932617, 0.9933496117591858, 0.9545349478721619, 0.9895687699317932, 0.995690107345581, 0.9935855269432068, 0.9789206385612488, 0.025691967457532883, 0.9728691577911377, 0.9913210868835449, 0.9974693655967712, 0.9918912053108215, 0.9868250489234924, 0.9523082971572876, 0.04585187882184982, 0.9932605624198914, 0.5079695582389832, 0.4858839511871338, 0.9841488599777222, 0.9893661141395569, 0.9952886700630188, 0.9881089329719543, 0.9837013483047485, 0.9930152297019958, 0.9976996183395386, 0.9781558513641357, 0.9913007616996765, 0.9938364624977112, 0.9897152781486511, 0.003223999636247754, 0.9946038722991943, 0.9948441982269287, 0.9983580708503723, 0.9860860705375671, 0.9997702836990356, 0.9959025979042053, 0.9925889372825623, 0.9849252104759216, 0.9326170682907104, 0.48022979497909546, 0.424389123916626, 0.09306778758764267, 0.9780211448669434, 0.9969831109046936, 0.5850908756256104, 0.368633508682251, 0.03017284907400608, 0.015742355957627296, 0.9516271352767944, 0.9950133562088013, 0.9897748827934265, 0.9980265498161316, 0.9674575924873352, 0.983125627040863, 0.9922633767127991, 0.9964503645896912, 0.9945622086524963, 0.989818274974823, 0.9828970432281494, 0.9701796770095825, 0.9901726245880127, 0.7905716300010681, 0.2004266083240509, 0.9839643239974976, 0.9967638850212097, 0.9994471669197083, 0.9826358556747437, 0.9707284569740295, 0.25435858964920044, 0.7453440427780151, 0.9941083192825317, 0.9951364994049072, 0.9753344058990479, 0.9975690841674805, 0.9768838882446289, 0.9418283700942993, 0.9718692302703857, 0.9982967972755432, 0.9952362179756165, 0.9801869988441467, 0.9749894738197327, 0.9958342909812927, 0.9959958791732788, 0.004021929111331701, 0.9139833450317383, 0.08144406229257584, 0.9954891204833984, 0.24613723158836365, 0.7492706775665283, 0.9984958171844482, 0.431863397359848, 0.5639627575874329, 0.9963546991348267, 0.992601752281189, 0.9840734601020813, 0.9843403100967407, 0.982668936252594, 0.9908654093742371, 0.9787684082984924, 0.992132842540741, 0.9964667558670044, 0.9985437989234924, 0.9878571033477783, 0.9924699068069458, 0.9857010841369629, 0.9960776567459106, 0.040714845061302185, 0.9567988514900208, 0.01668299362063408, 0.977623462677002, 0.9869961142539978, 0.9927428364753723, 0.9891520738601685, 0.9951969981193542, 0.9946510791778564, 0.9965438842773438, 0.9762704968452454, 0.02214924432337284, 0.9908424019813538, 0.9943313002586365, 0.9875778555870056, 0.9824872016906738, 0.9971174001693726, 0.9967828989028931, 0.9927440285682678, 0.9149768352508545, 0.0491262711584568, 0.03530950844287872, 0.9970212578773499, 0.9335423111915588], \"Term\": [\"able\", \"accommodate\", \"actually\", \"adequate\", \"air\", \"air_conditioner\", \"airport\", \"allow\", \"allow\", \"also\", \"also\", \"always\", \"anyone\", \"area\", \"arrive\", \"ask\", \"atmosphere\", \"attentive\", \"attraction\", \"available\", \"average\", \"away\", \"back\", \"bad\", \"balcony\", \"base\", \"basic\", \"be\", \"beach\", \"beautiful\", \"beautiful\", \"bed\", \"bedroom\", \"better\", \"book\", \"break\", \"breakfast\", \"breakfast\", \"bring\", \"buffet\", \"bug\", \"build\", \"business\", \"call\", \"can\", \"card\", \"carpet\", \"center\", \"chair\", \"charge\", \"check\", \"check\", \"child\", \"city\", \"city\", \"clean\", \"clerk\", \"close\", \"coffee\", \"coffee\", \"cold\", \"come\", \"come\", \"comfortable\", \"complain\", \"complaint\", \"complimentary\", \"computer\", \"condition\", \"consider\", \"continental\", \"convenient\", \"cost\", \"couch\", \"could\", \"could\", \"course\", \"courtyard\", \"curtain\", \"customer\", \"customer_service\", \"daughter\", \"day\", \"day\", \"decor\", \"desk\", \"dining\", \"dirty\", \"distance\", \"do\", \"do\", \"door\", \"drink\", \"drive\", \"dry\", \"early\", \"eat\", \"egg\", \"elevator\", \"elevator\", \"else\", \"embassy_suit\", \"employee\", \"enjoy\", \"evening\", \"event\", \"ever\", \"everything\", \"excellent\", \"expectation\", \"expensive\", \"experience\", \"experience\", \"extra\", \"extremely\", \"fact\", \"family\", \"fantastic\", \"february\", \"feel\", \"feel\", \"find\", \"find\", \"fine\", \"first\", \"fit\", \"fix\", \"floor\", \"folk\", \"follow\", \"food\", \"free\", \"fresh\", \"friend\", \"friendly\", \"front_desk\", \"front_desk\", \"full\", \"full\", \"game\", \"get\", \"get\", \"get\", \"give\", \"give\", \"give\", \"go\", \"go\", \"go\", \"good\", \"great\", \"guest\", \"guest\", \"guy\", \"hair\", \"hallway\", \"happen\", \"happy\", \"help\", \"helpful\", \"high\", \"high\", \"highly_recommend\", \"highway\", \"hold\", \"home\", \"horrible\", \"hot\", \"hotel\", \"hotel\", \"hour\", \"housekeeping\", \"huge\", \"husband\", \"indoor_pool\", \"internet\", \"interstate\", \"issue\", \"item\", \"job\", \"kid\", \"kitchen\", \"kitchenette\", \"know\", \"know\", \"last\", \"late\", \"later\", \"lay\", \"like\", \"little\", \"local\", \"location\", \"lot\", \"loud\", \"love\", \"low\", \"maintenance\", \"make\", \"mall\", \"man\", \"manager\", \"many\", \"marriott\", \"mattress\", \"may\", \"meet\", \"member\", \"metro\", \"microwave\", \"min\", \"minute\", \"minute\", \"money\", \"money\", \"morning\", \"morning\", \"move\", \"much\", \"much\", \"name\", \"need\", \"need\", \"never\", \"next\", \"next\", \"nice\", \"night\", \"night\", \"not\", \"not\", \"offer\", \"ok\", \"old\", \"old\", \"open\", \"open\", \"order\", \"outside\", \"outstanding\", \"overall\", \"parking\", \"people\", \"people\", \"people\", \"person\", \"pittsburgh\", \"pittsburgh\", \"pittsburgh\", \"pittsburgh\", \"place\", \"place\", \"pleasant\", \"please\", \"plenty\", \"pm\", \"point\", \"polite\", \"pool\", \"pool\", \"pretty\", \"price\", \"probably\", \"professional\", \"property\", \"property\", \"provide\", \"put\", \"put\", \"quality\", \"quick\", \"quiet\", \"ready\", \"real\", \"receive\", \"recommend\", \"refrigerator\", \"request\", \"resort\", \"rest\", \"restaurant\", \"restaurant\", \"return\", \"right\", \"road\", \"room\", \"run\", \"s\", \"safe\", \"saturday\", \"say\", \"say\", \"say\", \"security\", \"see\", \"service\", \"service\", \"service\", \"service\", \"shampoo\", \"shop\", \"shower\", \"shuttle\", \"sign\", \"sink\", \"sit\", \"small\", \"smell\", \"smoke\", \"snack\", \"sofa\", \"someone\", \"something\", \"something\", \"space\", \"spend\", \"staff\", \"stain\", \"stand\", \"stay\", \"stay\", \"stop\", \"suite\", \"system\", \"take\", \"talk\", \"taste\", \"television\", \"tell\", \"thank\", \"that\", \"there\", \"thing\", \"think\", \"time\", \"time\", \"time\", \"towel\", \"travel\", \"travel\", \"trip\", \"try\", \"try\", \"tv\", \"twice\", \"type\", \"uncomfortable\", \"unit\", \"use\", \"usual\", \"value\", \"view\", \"visit\", \"waffle\", \"wait\", \"wake\", \"walk\", \"wall\", \"wall\", \"want\", \"want\", \"watch\", \"water\", \"wedding\", \"week\", \"weekend\", \"welcome\", \"well\", \"well\", \"whole\", \"wifi\", \"window\", \"within_walk\", \"wonderful\", \"work\", \"worth\", \"would\", \"would\", \"would\", \"year\", \"yet\"]}, \"R\": 30, \"lambda.step\": 0.01, \"plot.opts\": {\"xlab\": \"PC1\", \"ylab\": \"PC2\"}, \"topic.order\": [2, 7, 1, 3, 8, 5, 9, 4, 6]};\n",
              "\n",
              "function LDAvis_load_lib(url, callback){\n",
              "  var s = document.createElement('script');\n",
              "  s.src = url;\n",
              "  s.async = true;\n",
              "  s.onreadystatechange = s.onload = callback;\n",
              "  s.onerror = function(){console.warn(\"failed to load library \" + url);};\n",
              "  document.getElementsByTagName(\"head\")[0].appendChild(s);\n",
              "}\n",
              "\n",
              "if(typeof(LDAvis) !== \"undefined\"){\n",
              "   // already loaded: just create the visualization\n",
              "   !function(LDAvis){\n",
              "       new LDAvis(\"#\" + \"ldavis_el5821398347261399689651337523\", ldavis_el5821398347261399689651337523_data);\n",
              "   }(LDAvis);\n",
              "}else if(typeof define === \"function\" && define.amd){\n",
              "   // require.js is available: use it to load d3/LDAvis\n",
              "   require.config({paths: {d3: \"https://cdnjs.cloudflare.com/ajax/libs/d3/3.5.5/d3.min\"}});\n",
              "   require([\"d3\"], function(d3){\n",
              "      window.d3 = d3;\n",
              "      LDAvis_load_lib(\"https://cdn.rawgit.com/bmabey/pyLDAvis/files/ldavis.v1.0.0.js\", function(){\n",
              "        new LDAvis(\"#\" + \"ldavis_el5821398347261399689651337523\", ldavis_el5821398347261399689651337523_data);\n",
              "      });\n",
              "    });\n",
              "}else{\n",
              "    // require.js not available: dynamically load d3 & LDAvis\n",
              "    LDAvis_load_lib(\"https://cdnjs.cloudflare.com/ajax/libs/d3/3.5.5/d3.min.js\", function(){\n",
              "         LDAvis_load_lib(\"https://cdn.rawgit.com/bmabey/pyLDAvis/files/ldavis.v1.0.0.js\", function(){\n",
              "                 new LDAvis(\"#\" + \"ldavis_el5821398347261399689651337523\", ldavis_el5821398347261399689651337523_data);\n",
              "            })\n",
              "         });\n",
              "}\n",
              "</script>"
            ],
            "text/plain": [
              "PreparedData(topic_coordinates=              x         y  topics  cluster       Freq\n",
              "topic                                                \n",
              "1      0.369266 -0.170814       1        1  39.088856\n",
              "6      0.241810  0.226115       2        1  19.448236\n",
              "0     -0.010511  0.130119       3        1   9.035082\n",
              "2     -0.087391  0.096751       4        1   7.525023\n",
              "7     -0.054866 -0.251620       5        1   6.513520\n",
              "4     -0.102598  0.041839       6        1   6.179352\n",
              "8     -0.100467 -0.017567       7        1   5.476983\n",
              "3     -0.126123 -0.044930       8        1   3.959009\n",
              "5     -0.129120 -0.009892       9        1   2.773941, topic_info=     Category         Freq           Term        Total  loglift  logprob\n",
              "58    Default  4553.000000           room  4553.000000  30.0000  30.0000\n",
              "13    Default  3270.000000           stay  3270.000000  29.0000  29.0000\n",
              "76    Default  1180.000000            not  1180.000000  28.0000  28.0000\n",
              "107   Default  3998.000000          hotel  3998.000000  27.0000  27.0000\n",
              "61    Default  2313.000000          staff  2313.000000  26.0000  26.0000\n",
              "116   Default  2044.000000           good  2044.000000  25.0000  25.0000\n",
              "416   Default   780.000000          check   780.000000  24.0000  24.0000\n",
              "133   Default  1992.000000          clean  1992.000000  23.0000  23.0000\n",
              "25    Default  1926.000000          great  1926.000000  22.0000  22.0000\n",
              "114   Default  1936.000000      breakfast  1936.000000  21.0000  21.0000\n",
              "499   Default   583.000000           pool   583.000000  20.0000  20.0000\n",
              "57    Default   620.000000     restaurant   620.000000  19.0000  19.0000\n",
              "782   Default   612.000000          close   612.000000  18.0000  18.0000\n",
              "24    Default  1034.000000             go  1034.000000  17.0000  17.0000\n",
              "361   Default   632.000000             do   632.000000  16.0000  16.0000\n",
              "105   Default   525.000000         family   525.000000  15.0000  15.0000\n",
              "123   Default  1562.000000           nice  1562.000000  14.0000  14.0000\n",
              "75    Default   592.000000     front_desk   592.000000  13.0000  13.0000\n",
              "167   Default   994.000000           time   994.000000  12.0000  12.0000\n",
              "494   Default   458.000000           food   458.000000  11.0000  11.0000\n",
              "222   Default   474.000000           also   474.000000  10.0000  10.0000\n",
              "6     Default   446.000000     experience   446.000000   9.0000   9.0000\n",
              "120   Default   602.000000           make   602.000000   8.0000   8.0000\n",
              "176   Default  1052.000000       friendly  1052.000000   7.0000   7.0000\n",
              "312   Default   311.000000     everything   311.000000   6.0000   6.0000\n",
              "71    Default   277.000000           call   277.000000   5.0000   5.0000\n",
              "281   Default   322.000000         always   322.000000   4.0000   4.0000\n",
              "195   Default   956.000000    comfortable   956.000000   3.0000   3.0000\n",
              "31    Default   519.000000           take   519.000000   2.0000   2.0000\n",
              "135   Default   912.000000       location   912.000000   1.0000   1.0000\n",
              "...       ...          ...            ...          ...      ...      ...\n",
              "261    Topic9    90.519150           wifi    91.518791   3.5739  -3.8776\n",
              "280    Topic9    79.393562           unit    80.393303   3.5724  -4.0087\n",
              "614    Topic9    78.495750      microwave    79.495438   3.5722  -4.0201\n",
              "362    Topic9    75.534248        receive    76.534576   3.5717  -4.0586\n",
              "166    Topic9    71.157417          space    72.157089   3.5710  -4.1183\n",
              "4605   Topic9    58.919147    indoor_pool    59.919365   3.5681  -4.3070\n",
              "254    Topic9    58.003696          build    59.003384   3.5678  -4.3227\n",
              "1463   Topic9    53.469093      condition    54.469086   3.5664  -4.4041\n",
              "1062   Topic9    46.747784  uncomfortable    47.747715   3.5637  -4.5384\n",
              "255    Topic9    45.738781          couch    46.738804   3.5633  -4.5602\n",
              "3750   Topic9    45.411469    kitchenette    46.411797   3.5631  -4.5674\n",
              "197    Topic9    38.578640          decor    39.578251   3.5593  -4.7305\n",
              "210    Topic9    34.827854           talk    35.828209   3.5566  -4.8327\n",
              "1188   Topic9    33.797676     atmosphere    34.797279   3.5558  -4.8628\n",
              "203    Topic9    33.283546           hair    34.283180   3.5553  -4.8781\n",
              "1492   Topic9    29.900074       adequate    30.899897   3.5520  -4.9853\n",
              "3149   Topic9    29.792080       computer    30.792015   3.5519  -4.9889\n",
              "2126   Topic9    27.810007     television    28.810461   3.5496  -5.0578\n",
              "4255   Topic9    27.206331            dry    28.207832   3.5488  -5.0797\n",
              "1654   Topic9    26.746082            fit    27.746334   3.5482  -5.0968\n",
              "5341   Topic9    26.171490     interstate    27.171143   3.5474  -5.1185\n",
              "4911   Topic9    26.114304            lay    27.115093   3.5473  -5.1207\n",
              "2393   Topic9    24.482859          taste    25.482349   3.5449  -5.1852\n",
              "206    Topic9    23.095804         please    24.095503   3.5425  -5.2435\n",
              "2266   Topic9    21.066841        shampoo    22.067467   3.5385  -5.3355\n",
              "212    Topic9    20.424232            yet    21.423775   3.5371  -5.3664\n",
              "3434   Topic9    20.211628        curtain    21.212091   3.5366  -5.3769\n",
              "4809   Topic9    19.101917       february    20.114719   3.5332  -5.4334\n",
              "501    Topic9    18.300892       saturday    19.300526   3.5317  -5.4762\n",
              "495    Topic9    91.497871           full   104.796440   3.4492  -3.8668\n",
              "\n",
              "[352 rows x 6 columns], token_table=      Topic      Freq             Term\n",
              "term                                  \n",
              "504       4  0.992834             able\n",
              "100       4  0.990472      accommodate\n",
              "170       6  0.993502         actually\n",
              "1492      9  0.970877         adequate\n",
              "1293      5  0.984268              air\n",
              "542       7  0.976717  air_conditioner\n",
              "673       1  0.996564          airport\n",
              "636       3  0.979238            allow\n",
              "636       6  0.010417            allow\n",
              "222       1  0.002109             also\n",
              "222       4  0.995644             also\n",
              "281       6  0.997907           always\n",
              "609       3  0.995551           anyone\n",
              "213       1  0.999290             area\n",
              "142       3  0.996020           arrive\n",
              "112       3  0.997924              ask\n",
              "1188      9  0.977088       atmosphere\n",
              "334       6  0.983336        attentive\n",
              "596       8  0.981012       attraction\n",
              "306       8  0.989184        available\n",
              "820       7  0.988705          average\n",
              "87        2  0.997506             away\n",
              "1         2  0.997556             back\n",
              "382       1  0.998464              bad\n",
              "1996      4  0.986745          balcony\n",
              "155       7  0.985508             base\n",
              "1600      8  0.980149            basic\n",
              "143       1  0.998585               be\n",
              "1835      1  0.996393            beach\n",
              "113       1  0.014149        beautiful\n",
              "...     ...       ...              ...\n",
              "461       4  0.996467             view\n",
              "141       2  0.998544            visit\n",
              "502       4  0.987857           waffle\n",
              "35        3  0.992470             wait\n",
              "563       7  0.985701             wake\n",
              "525       1  0.996078             walk\n",
              "1144      5  0.040715             wall\n",
              "1144      7  0.956799             wall\n",
              "65        1  0.016683             want\n",
              "65        2  0.977623             want\n",
              "958       7  0.986996            watch\n",
              "358       5  0.992743            water\n",
              "109       3  0.989152          wedding\n",
              "331       2  0.995197             week\n",
              "733       2  0.994651          weekend\n",
              "37        2  0.996544          welcome\n",
              "66        1  0.976270             well\n",
              "66        2  0.022149             well\n",
              "1035      8  0.990842            whole\n",
              "261       9  0.994331             wifi\n",
              "465       5  0.987578           window\n",
              "526       4  0.982487      within_walk\n",
              "749       2  0.997117        wonderful\n",
              "130       1  0.996783             work\n",
              "723       3  0.992744            worth\n",
              "15        1  0.914977            would\n",
              "15        2  0.049126            would\n",
              "15        3  0.035310            would\n",
              "169       2  0.997021             year\n",
              "212       9  0.933542              yet\n",
              "\n",
              "[381 rows x 3 columns], R=30, lambda_step=0.01, plot_opts={'xlab': 'PC1', 'ylab': 'PC2'}, topic_order=[2, 7, 1, 3, 8, 5, 9, 4, 6])"
            ]
          },
          "metadata": {
            "tags": []
          },
          "execution_count": 82
        }
      ]
    },
    {
      "cell_type": "code",
      "metadata": {
        "id": "1fOelftLiGHu",
        "colab_type": "code",
        "colab": {}
      },
      "source": [
        ""
      ],
      "execution_count": 0,
      "outputs": []
    }
  ]
}